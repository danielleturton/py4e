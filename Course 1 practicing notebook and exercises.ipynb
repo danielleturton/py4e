{
 "cells": [
  {
   "cell_type": "markdown",
   "metadata": {},
   "source": [
    "# Py4e Course 1: different exercises"
   ]
  },
  {
   "cell_type": "markdown",
   "metadata": {},
   "source": [
    "## Chapter 2"
   ]
  },
  {
   "cell_type": "code",
   "execution_count": 25,
   "metadata": {},
   "outputs": [
    {
     "name": "stdout",
     "output_type": "stream",
     "text": [
      "What is your name darlin? danielle\n",
      "Welcome danielle\n"
     ]
    }
   ],
   "source": [
    "### Exercise 2\n",
    "name = input('What is your name darlin? ')\n",
    "print('Welcome ' + name)"
   ]
  },
  {
   "cell_type": "code",
   "execution_count": 38,
   "metadata": {},
   "outputs": [
    {
     "name": "stdout",
     "output_type": "stream",
     "text": [
      "How many hours did you work? 35\n",
      "which rate of pay are you on? 2.7\n",
      "94.5\n"
     ]
    }
   ],
   "source": [
    "### Exercise 3\n",
    "hours = input('How many hours did you work? ')\n",
    "rate = input('which rate of pay are you on? ')\n",
    "wage = float(hours) * float(rate)\n",
    "# wage_str = str(wage) \n",
    "# print('£' + wage_str)"
   ]
  },
  {
   "cell_type": "code",
   "execution_count": 43,
   "metadata": {},
   "outputs": [
    {
     "data": {
      "text/plain": [
       "11"
      ]
     },
     "execution_count": 43,
     "metadata": {},
     "output_type": "execute_result"
    }
   ],
   "source": [
    "### Exercise 4\n",
    "width = 17\n",
    "height = 12.0\n",
    "width//2\n",
    "width/2.0\n",
    "height/3\n",
    "1 + 2 * 5"
   ]
  },
  {
   "cell_type": "code",
   "execution_count": 45,
   "metadata": {},
   "outputs": [
    {
     "name": "stdout",
     "output_type": "stream",
     "text": [
      "What is the temperature?\n",
      "24\n",
      "75.2\n"
     ]
    }
   ],
   "source": [
    "### Exercise 5\n",
    "cels = input('What is the temperature?\\n')\n",
    "cels = float(cels)\n",
    "farn = cels*1.8 + 32\n",
    "print(farn)"
   ]
  },
  {
   "cell_type": "markdown",
   "metadata": {},
   "source": [
    "## Chapter 3"
   ]
  },
  {
   "cell_type": "code",
   "execution_count": 17,
   "metadata": {},
   "outputs": [
    {
     "name": "stdout",
     "output_type": "stream",
     "text": [
      " x is negative\n"
     ]
    }
   ],
   "source": [
    "x = -10\n",
    "if x > 0 :\n",
    "    print('x is positive')\n",
    "elif x < 0 :\n",
    "    print(' x is negative')\n",
    "else :\n",
    "    print('x is 0')"
   ]
  },
  {
   "cell_type": "code",
   "execution_count": 18,
   "metadata": {},
   "outputs": [
    {
     "name": "stdout",
     "output_type": "stream",
     "text": [
      "x is neg\n"
     ]
    }
   ],
   "source": [
    "if x > 0 :\n",
    "    print('x is pos')\n",
    "else :\n",
    "    if x < 0 :\n",
    "        print('x is neg')\n",
    "    else :\n",
    "        print('x is 0000')"
   ]
  },
  {
   "cell_type": "markdown",
   "metadata": {},
   "source": [
    "\n",
    "**Farenheit temperature calc**"
   ]
  },
  {
   "cell_type": "code",
   "execution_count": 46,
   "metadata": {},
   "outputs": [
    {
     "name": "stdout",
     "output_type": "stream",
     "text": [
      "Enter Farenheit temperature 23\n",
      "-5.0\n"
     ]
    }
   ],
   "source": [
    "inp = input('Enter Farenheit temperature ')\n",
    "try:\n",
    "    fahr = float(inp)\n",
    "    cel = (fahr - 32)* 5.0/9.0\n",
    "    print(cel)\n",
    "except:\n",
    "    print('Write in numbers silly')"
   ]
  },
  {
   "cell_type": "markdown",
   "metadata": {},
   "source": [
    "### Exercises ch3"
   ]
  },
  {
   "cell_type": "code",
   "execution_count": 54,
   "metadata": {},
   "outputs": [
    {
     "name": "stdout",
     "output_type": "stream",
     "text": [
      "enter hours\n",
      "45\n",
      "enter rate\n",
      "10\n",
      "475.0\n"
     ]
    }
   ],
   "source": [
    "### Exercise 1\n",
    "hours = input('enter hours\\n')\n",
    "hours = float(hours)\n",
    "rate = input('enter rate\\n')\n",
    "rate = float(rate)\n",
    "standard_wage = hours * rate\n",
    "if hours < 40 :\n",
    "    print(standard_wage)\n",
    "else :\n",
    "    overtime = (hours - 40) * (rate + rate/2)\n",
    "    extra_wage = (40 * rate) + overtime\n",
    "    print(extra_wage)"
   ]
  },
  {
   "cell_type": "code",
   "execution_count": 53,
   "metadata": {},
   "outputs": [
    {
     "data": {
      "text/plain": [
       "75.0"
      ]
     },
     "execution_count": 53,
     "metadata": {},
     "output_type": "execute_result"
    }
   ],
   "source": [
    "5*(10 + 10/2)"
   ]
  },
  {
   "cell_type": "code",
   "execution_count": null,
   "metadata": {},
   "outputs": [
    {
     "name": "stdout",
     "output_type": "stream",
     "text": [
      "enter hours\n",
      "nine\n",
      "Error, please enter numeric input\n"
     ]
    }
   ],
   "source": [
    "### Exercise 2  ## THIS IS STILL GIVING AN ERROR, I THOUGHT IT WASN'T MEANT TO, go back to old one which quit properly\n",
    "hours = input('enter hours\\n')\n",
    "try :\n",
    "    hours = float(hours)\n",
    "except :\n",
    "    print('Error, please enter numeric input')\n",
    "    quit()\n",
    "    \n",
    "rate = input('enter rate\\n')\n",
    "try :\n",
    "    rate = float(rate)\n",
    "except :\n",
    "    print('Error, please enter numeric input')  \n",
    "    quit()\n",
    "\n",
    "standard_wage = float(hours) * float(rate)\n",
    "if hours < 40 :\n",
    "    print(standard_wage)\n",
    "else :\n",
    "    overtime = (float(hours) - 40) * (float(rate) + float(rate)/2)\n",
    "    extra_wage = (40 * float(rate)) + overtime\n",
    "    print(extra_wage)"
   ]
  },
  {
   "cell_type": "code",
   "execution_count": 12,
   "metadata": {},
   "outputs": [
    {
     "name": "stdout",
     "output_type": "stream",
     "text": [
      "What is your score?\n",
      "0.5\n",
      "You got a big fat F\n"
     ]
    }
   ],
   "source": [
    "### Exercise 3\n",
    "inp = input('What is your score?\\n')\n",
    "try :\n",
    "    score = float(inp)\n",
    "    if score >= 0.9 :\n",
    "        print('You got an A!')\n",
    "    elif score >= 0.8 :\n",
    "        print('You got a B!')\n",
    "    elif score >= 0.7 :\n",
    "        print('You got a C!')\n",
    "    elif score >= 0.6 :\n",
    "        print('You got a D!')\n",
    "    elif score < 0.6 :\n",
    "        print('You got a big fat F')\n",
    "except :\n",
    "    print('bad input')\n",
    "    "
   ]
  },
  {
   "cell_type": "markdown",
   "metadata": {},
   "source": [
    "# Chapter 4: functions"
   ]
  },
  {
   "cell_type": "code",
   "execution_count": 3,
   "metadata": {},
   "outputs": [
    {
     "name": "stdout",
     "output_type": "stream",
     "text": [
      "0.34611342127359124\n",
      "0.5858026451822308\n",
      "0.5013832127531604\n",
      "0.24356089744456555\n",
      "0.23334297615394062\n",
      "0.9382131393611223\n",
      "0.6073298561572106\n",
      "0.9520126634716974\n",
      "0.18157445021731144\n",
      "0.9266645480830099\n"
     ]
    }
   ],
   "source": [
    "# Exercise 1\n",
    "import random\n",
    "\n",
    "for i in range(10):\n",
    "    x = random.random() # dot notation?  or something?  So random. calls the random package, then the thing after the dot is the function from that package\n",
    "    print(x)"
   ]
  },
  {
   "cell_type": "code",
   "execution_count": 7,
   "metadata": {},
   "outputs": [],
   "source": [
    "def print_twice(bruce): #bruce is the parameter so it can be whatever you want it to be\n",
    "    print(bruce)\n",
    "    print(bruce)"
   ]
  },
  {
   "cell_type": "code",
   "execution_count": 10,
   "metadata": {},
   "outputs": [
    {
     "name": "stdout",
     "output_type": "stream",
     "text": [
      "spam\n",
      "spam\n"
     ]
    }
   ],
   "source": [
    "print_twice('spam')"
   ]
  },
  {
   "cell_type": "code",
   "execution_count": 12,
   "metadata": {},
   "outputs": [
    {
     "name": "stdout",
     "output_type": "stream",
     "text": [
      "3.141592653589793\n",
      "3.141592653589793\n"
     ]
    }
   ],
   "source": [
    "import math\n",
    "print_twice(math.pi)"
   ]
  },
  {
   "cell_type": "code",
   "execution_count": 13,
   "metadata": {},
   "outputs": [
    {
     "name": "stdout",
     "output_type": "stream",
     "text": [
      "Spam Spam Spam Spam \n",
      "Spam Spam Spam Spam \n"
     ]
    }
   ],
   "source": [
    "print_twice('Spam '*4)"
   ]
  },
  {
   "cell_type": "code",
   "execution_count": null,
   "metadata": {},
   "outputs": [],
   "source": [
    "# Exercise 6  #not quite right, go back to old one\n",
    "def compute_pay():\n",
    "    hours = input('enter hours\\n')\n",
    "    try :\n",
    "        hours = float(hours)\n",
    "    except :\n",
    "        print('Error, please enter numeric input')\n",
    "    rate = input('enter rate\\n')\n",
    "    try :\n",
    "        rate = float(rate)\n",
    "    except :\n",
    "        print('Error, please enter numeric input')  \n",
    "\n",
    "    standard_wage = float(hours) * float(rate)\n",
    "    if hours < 40 :\n",
    "        print(standard_wage)\n",
    "    else :\n",
    "        overtime = (float(hours) - 40) * (float(rate) + float(rate)/2)\n",
    "        extra_wage = (40 * float(rate)) + overtime\n",
    "        print(extra_wage)"
   ]
  },
  {
   "cell_type": "code",
   "execution_count": null,
   "metadata": {},
   "outputs": [],
   "source": [
    "compute_pay()"
   ]
  },
  {
   "cell_type": "code",
   "execution_count": 2,
   "metadata": {},
   "outputs": [],
   "source": [
    "# Exercise 7 #this might also be wrong cos it lets you put in scores over 1\n",
    "def score_calc():\n",
    "    inp = input('What is your score?\\n')\n",
    "    try :\n",
    "        score = float(inp)\n",
    "        if score >= 0.9 :\n",
    "            print('You got an A!')\n",
    "        elif score >= 0.8 :\n",
    "            print('You got a B!')\n",
    "        elif score >= 0.7 :\n",
    "            print('You got a C!')\n",
    "        elif score >= 0.6 :\n",
    "            print('You got a D!')\n",
    "        elif score < 0.6 :\n",
    "            print('You got a big fat F')\n",
    "    except :\n",
    "        print('bad input')"
   ]
  },
  {
   "cell_type": "code",
   "execution_count": 3,
   "metadata": {},
   "outputs": [
    {
     "name": "stdout",
     "output_type": "stream",
     "text": [
      "What is your score?\n",
      "10\n",
      "You got an A!\n"
     ]
    }
   ],
   "source": [
    "score_calc()"
   ]
  },
  {
   "cell_type": "code",
   "execution_count": null,
   "metadata": {},
   "outputs": [],
   "source": []
  }
 ],
 "metadata": {
  "kernelspec": {
   "display_name": "Python 3",
   "language": "python",
   "name": "python3"
  },
  "language_info": {
   "codemirror_mode": {
    "name": "ipython",
    "version": 3
   },
   "file_extension": ".py",
   "mimetype": "text/x-python",
   "name": "python",
   "nbconvert_exporter": "python",
   "pygments_lexer": "ipython3",
   "version": "3.6.5"
  }
 },
 "nbformat": 4,
 "nbformat_minor": 2
}
