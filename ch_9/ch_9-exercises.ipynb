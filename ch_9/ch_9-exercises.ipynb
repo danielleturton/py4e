{
 "cells": [
  {
   "cell_type": "markdown",
   "metadata": {},
   "source": [
    "# Chapter 9 exercises (data structures week 5)"
   ]
  },
  {
   "cell_type": "code",
   "execution_count": 6,
   "metadata": {},
   "outputs": [
    {
     "name": "stdout",
     "output_type": "stream",
     "text": [
      "hello here are some words of me rambling on and that shut up\n"
     ]
    }
   ],
   "source": [
    "\n",
    "d = dict()\n",
    "fhand = open('words.txt') \n",
    "for words in fhand :\n",
    "    bag_of_words = words\n",
    "print(bag_of_words)\n"
   ]
  },
  {
   "cell_type": "code",
   "execution_count": 7,
   "metadata": {},
   "outputs": [
    {
     "name": "stdout",
     "output_type": "stream",
     "text": [
      "{'hello here are some words of me rambling on and that shut up': 1}\n"
     ]
    }
   ],
   "source": [
    "# Exercise 1 -attempt 2 - need to use line.split\n",
    "d = dict()\n",
    "fhand = open('words.txt') \n",
    "d = dict()\n",
    "for c in fhand:\n",
    "    if c not in d: \n",
    "        d[c] = 1\n",
    "    else:\n",
    "        d[c] = d[c] + 1\n",
    "print(d)\n",
    "#is this right?  don't think so"
   ]
  },
  {
   "cell_type": "code",
   "execution_count": null,
   "metadata": {},
   "outputs": [],
   "source": []
  }
 ],
 "metadata": {
  "kernelspec": {
   "display_name": "Python 3",
   "language": "python",
   "name": "python3"
  },
  "language_info": {
   "codemirror_mode": {
    "name": "ipython",
    "version": 3
   },
   "file_extension": ".py",
   "mimetype": "text/x-python",
   "name": "python",
   "nbconvert_exporter": "python",
   "pygments_lexer": "ipython3",
   "version": "3.6.5"
  }
 },
 "nbformat": 4,
 "nbformat_minor": 2
}
