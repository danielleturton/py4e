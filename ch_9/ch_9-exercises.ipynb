{
 "cells": [
  {
   "cell_type": "markdown",
   "metadata": {},
   "source": [
    "# Chapter 9 exercises (data structures week 5)"
   ]
  },
  {
   "cell_type": "code",
   "execution_count": 34,
   "metadata": {},
   "outputs": [
    {
     "name": "stdout",
     "output_type": "stream",
     "text": [
      "{'hello': 1, 'here': 1, 'are': 1, 'some': 1, 'words': 1, 'of': 1, 'me': 1, 'rambling': 1, 'on': 1, 'and': 1, 'that': 1, 'shut': 1, 'up': 1}\n"
     ]
    }
   ],
   "source": [
    "# Exercise 1\n",
    "d = dict()\n",
    "fhand = open('words.txt') \n",
    "for line in fhand:\n",
    "    words = line.split()\n",
    "    for word in words :\n",
    "        if word not in d: \n",
    "            d[word] = 1\n",
    "        else:\n",
    "            d[word] = d[word] + 1\n",
    "print(d)"
   ]
  },
  {
   "cell_type": "code",
   "execution_count": 40,
   "metadata": {},
   "outputs": [
    {
     "name": "stdout",
     "output_type": "stream",
     "text": [
      "{'Sat': 61, 'Fri': 315, 'Thu': 392, 'Wed': 292, 'Tue': 372, 'Mon': 299, 'Sun': 66}\n"
     ]
    }
   ],
   "source": [
    "# Exercise 2 \n",
    "fhand = open('mbox.txt') \n",
    "counts = dict()\n",
    "for line in fhand:\n",
    "    words = line.split()\n",
    "    #print('Debug:', words)\n",
    "    if len(words) < 3 or  words[0] != 'From' : continue\n",
    "    days = words[2]\n",
    "    days = days.split()\n",
    "    for day in days :\n",
    "        if day not in counts: \n",
    "            counts[day] = 1\n",
    "        else:\n",
    "            counts[day] +=1\n",
    "print(counts)"
   ]
  },
  {
   "cell_type": "code",
   "execution_count": 27,
   "metadata": {},
   "outputs": [
    {
     "name": "stdout",
     "output_type": "stream",
     "text": [
      "{'From': 27, 'stephen.marquard@uct.ac.za': 2, 'Sat': 1, 'Jan': 27, '5': 1, '09:14:16': 1, '2008': 27, 'louis@media.berkeley.edu': 3, 'Fri': 20, '4': 20, '18:10:48': 1, 'zqian@umich.edu': 4, '16:10:39': 1, 'rjlowe@iupui.edu': 2, '15:46:24': 1, '15:03:18': 1, '14:50:18': 1, 'cwen@iupui.edu': 5, '11:37:30': 1, '11:35:08': 1, 'gsilver@umich.edu': 3, '11:12:37': 1, '11:11:52': 1, '11:11:03': 1, '11:10:22': 1, 'wagnermr@iupui.edu': 1, '10:38:42': 1, '10:17:43': 1, 'antranig@caret.cam.ac.uk': 1, '10:04:14': 1, 'gopal.ramasammycook@gmail.com': 1, '09:05:31': 1, 'david.horwitz@uct.ac.za': 4, '07:02:32': 1, '06:08:27': 1, '04:49:08': 1, '04:33:44': 1, '04:07:34': 1, 'Thu': 6, '3': 6, '19:51:21': 1, '17:18:23': 1, 'ray@media.berkeley.edu': 1, '17:07:00': 1, '16:34:40': 1, '16:29:07': 1, '16:23:48': 1}\n"
     ]
    }
   ],
   "source": [
    "# ex2 failed attempt\n",
    "fhand = open('mbox-short.txt') \n",
    "counts = dict()\n",
    "for line in fhand:\n",
    "    words = line.split()\n",
    "    #print('Debug:', words)\n",
    "    if len(words) < 3 or  words[0] != 'From' : continue\n",
    "    for word in words :\n",
    "        if word not in counts: \n",
    "            counts[word] = 1\n",
    "        else:\n",
    "            counts[word] +=1\n",
    "print(counts)"
   ]
  },
  {
   "cell_type": "code",
   "execution_count": null,
   "metadata": {},
   "outputs": [],
   "source": []
  },
  {
   "cell_type": "code",
   "execution_count": null,
   "metadata": {},
   "outputs": [],
   "source": []
  }
 ],
 "metadata": {
  "kernelspec": {
   "display_name": "Python 3",
   "language": "python",
   "name": "python3"
  },
  "language_info": {
   "codemirror_mode": {
    "name": "ipython",
    "version": 3
   },
   "file_extension": ".py",
   "mimetype": "text/x-python",
   "name": "python",
   "nbconvert_exporter": "python",
   "pygments_lexer": "ipython3",
   "version": "3.6.5"
  }
 },
 "nbformat": 4,
 "nbformat_minor": 2
}
