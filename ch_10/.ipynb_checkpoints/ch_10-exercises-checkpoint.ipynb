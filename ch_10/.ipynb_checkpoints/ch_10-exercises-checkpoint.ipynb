{
 "cells": [
  {
   "cell_type": "markdown",
   "metadata": {},
   "source": [
    "# Chapter 10 exercises"
   ]
  },
  {
   "cell_type": "code",
   "execution_count": 1,
   "metadata": {},
   "outputs": [
    {
     "name": "stdout",
     "output_type": "stream",
     "text": [
      "zqian@umich.edu 195\n"
     ]
    }
   ],
   "source": [
    "#Exercise 1\n",
    "fhand = open('mbox.txt') \n",
    "counts = dict()\n",
    "tmp = list()\n",
    "\n",
    "for line in fhand:\n",
    "    words = line.split()\n",
    "    #print('Debug:', words)\n",
    "    if len(words) < 3 or  words[0] != 'From' : continue\n",
    "    emails = words[1]\n",
    "    emails = emails.split()\n",
    "    for email in emails :\n",
    "        if email not in counts: \n",
    "            counts[email] = 1\n",
    "        else:\n",
    "            counts[email] +=1\n",
    "            \n",
    "for k, v in counts.items() :\n",
    "    newtup = (v, k)\n",
    "    tmp.append(newtup)\n",
    "\n",
    "tmp = sorted(tmp, reverse=True)\n",
    "for v, k in tmp[:1]: #top one\n",
    "    print(k, v)"
   ]
  },
  {
   "cell_type": "code",
   "execution_count": 43,
   "metadata": {},
   "outputs": [
    {
     "name": "stdout",
     "output_type": "stream",
     "text": [
      "04 3\n",
      "06 1\n",
      "07 1\n",
      "09 2\n",
      "10 3\n",
      "11 6\n",
      "14 1\n",
      "15 2\n",
      "16 4\n",
      "17 2\n",
      "18 1\n",
      "19 1\n"
     ]
    }
   ],
   "source": [
    "# Exercise 2 timeofday.py\n",
    "fhand = open('mbox-short.txt') \n",
    "counts = dict()\n",
    "tmp = list()\n",
    "\n",
    "for line in fhand:\n",
    "    words = line.split()\n",
    "    if len(words) < 3 or  words[0] != 'From' : continue\n",
    "    time = words[5]\n",
    "    chunks = time.split(':')\n",
    "    hours = chunks[0]\n",
    "    hours = hours.split() #It's this you gotta split though!\n",
    "    for hour in hours :\n",
    "        if hour not in counts: \n",
    "            counts[hour] = 1\n",
    "        else:\n",
    "            counts[hour] +=1\n",
    "s = sorted(counts.items())\n",
    "\n",
    "for k, v in s:\n",
    "    print(k, v)"
   ]
  },
  {
   "cell_type": "code",
   "execution_count": 25,
   "metadata": {},
   "outputs": [
    {
     "name": "stdout",
     "output_type": "stream",
     "text": [
      "[(31307, 'e'), (26756, 't'), (21696, 'o'), (18324, 'a'), (18109, 'h'), (16988, 'i'), (14757, 's'), (14540, 'n'), (14142, 'r'), (11852, 'l'), (8431, 'd'), (7299, 'u'), (7057, 'm'), (7045, 'w'), (5361, 'y'), (5060, 'g'), (4961, 'f'), (3990, 'c'), (3874, 'b'), (3449, 'v'), (2915, 'p'), (2115, 'k'), (513, 'j'), (127, 'x'), (126, 'q'), (119, 'z'), (26, '2')]\n"
     ]
    }
   ],
   "source": [
    "# Exercise 3   # is this including \\t??\n",
    "# English\n",
    "import string\n",
    "fhand = open('romeo-full.txt') \n",
    "counts = dict()\n",
    "\n",
    "for line in fhand:\n",
    "    line = line.rstrip()\n",
    "    line = line.translate(str.maketrans('', '', string.punctuation)) #line.translate(str.maketrans(fromstr, tostr, deletestr))\n",
    "    line = line.lower()\n",
    "    for char in line :\n",
    "        letters = list(line)\n",
    "        for letter in letters:\n",
    "            if letter == ' ' : continue \n",
    "            if letter not in counts: \n",
    "                counts[letter] = 1\n",
    "            else:\n",
    "                counts[letter] +=1\n",
    "                \n",
    "print( sorted ( [ (v,k) for k,v in counts.items()], reverse = True ) )\n"
   ]
  }
 ],
 "metadata": {
  "kernelspec": {
   "display_name": "Python 3",
   "language": "python",
   "name": "python3"
  },
  "language_info": {
   "codemirror_mode": {
    "name": "ipython",
    "version": 3
   },
   "file_extension": ".py",
   "mimetype": "text/x-python",
   "name": "python",
   "nbconvert_exporter": "python",
   "pygments_lexer": "ipython3",
   "version": "3.6.5"
  }
 },
 "nbformat": 4,
 "nbformat_minor": 2
}
