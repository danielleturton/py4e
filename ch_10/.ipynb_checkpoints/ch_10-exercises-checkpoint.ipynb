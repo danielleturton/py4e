{
 "cells": [
  {
   "cell_type": "markdown",
   "metadata": {},
   "source": [
    "# Chapter 10 exercises"
   ]
  },
  {
   "cell_type": "code",
   "execution_count": 13,
   "metadata": {},
   "outputs": [
    {
     "name": "stdout",
     "output_type": "stream",
     "text": [
      "zqian@umich.edu 195\n"
     ]
    }
   ],
   "source": [
    "#Exercise 1\n",
    "fhand = open('mbox.txt') \n",
    "counts = dict()\n",
    "tmp = list()\n",
    "\n",
    "for line in fhand:\n",
    "    words = line.split()\n",
    "    #print('Debug:', words)\n",
    "    if len(words) < 3 or  words[0] != 'From' : continue\n",
    "    emails = words[1]\n",
    "    emails = emails.split()\n",
    "    for email in emails :\n",
    "        if email not in counts: \n",
    "            counts[email] = 1\n",
    "        else:\n",
    "            counts[email] +=1\n",
    "            \n",
    "for k, v in counts.items() :\n",
    "    newtup = (v, k)\n",
    "    tmp.append(newtup)\n",
    "\n",
    "tmp = sorted(tmp, reverse=True)\n",
    "for v, k in tmp[:1]: #top one\n",
    "    print(k, v)"
   ]
  },
  {
   "cell_type": "code",
   "execution_count": 43,
   "metadata": {},
   "outputs": [
    {
     "name": "stdout",
     "output_type": "stream",
     "text": [
      "04 3\n",
      "06 1\n",
      "07 1\n",
      "09 2\n",
      "10 3\n",
      "11 6\n",
      "14 1\n",
      "15 2\n",
      "16 4\n",
      "17 2\n",
      "18 1\n",
      "19 1\n"
     ]
    }
   ],
   "source": [
    "# Exercise 2 timeofday.py\n",
    "fhand = open('mbox-short.txt') \n",
    "counts = dict()\n",
    "tmp = list()\n",
    "\n",
    "for line in fhand:\n",
    "    words = line.split()\n",
    "    if len(words) < 3 or  words[0] != 'From' : continue\n",
    "    time = words[5]\n",
    "    chunks = time.split(':')\n",
    "    hours = chunks[0]\n",
    "    hours = hours.split() #It's this you gotta split though!\n",
    "    for hour in hours :\n",
    "        if hour not in counts: \n",
    "            counts[hour] = 1\n",
    "        else:\n",
    "            counts[hour] +=1\n",
    "s = sorted(counts.items())\n",
    "\n",
    "for k, v in s:\n",
    "    print(k, v)"
   ]
  }
 ],
 "metadata": {
  "kernelspec": {
   "display_name": "Python 3",
   "language": "python",
   "name": "python3"
  },
  "language_info": {
   "codemirror_mode": {
    "name": "ipython",
    "version": 3
   },
   "file_extension": ".py",
   "mimetype": "text/x-python",
   "name": "python",
   "nbconvert_exporter": "python",
   "pygments_lexer": "ipython3",
   "version": "3.6.5"
  }
 },
 "nbformat": 4,
 "nbformat_minor": 2
}
