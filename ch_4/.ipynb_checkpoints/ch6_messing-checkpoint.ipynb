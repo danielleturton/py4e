{
 "cells": [
  {
   "cell_type": "code",
   "execution_count": 1,
   "metadata": {},
   "outputs": [
    {
     "name": "stdout",
     "output_type": "stream",
     "text": [
      "I'm a lumberjack, and I'm okay.\n",
      "I sleep all night and I work all day.\n",
      "I'm a lumberjack, and I'm okay.\n",
      "I sleep all night and I work all day.\n"
     ]
    }
   ],
   "source": [
    "def print_lyrics():\n",
    "    print(\"I'm a lumberjack, and I'm okay.\")\n",
    "    print('I sleep all night and I work all day.')\n",
    "\n",
    "\n",
    "def repeat_lyrics():\n",
    "    print_lyrics()\n",
    "    print_lyrics()\n",
    "\n",
    "repeat_lyrics()"
   ]
  },
  {
   "cell_type": "code",
   "execution_count": 4,
   "metadata": {},
   "outputs": [
    {
     "name": "stdout",
     "output_type": "stream",
     "text": [
      "enter hours worked\n",
      "100\n",
      "enter rate of pay\n",
      "10\n",
      "1300.0\n"
     ]
    }
   ],
   "source": [
    "def computepay():\n",
    "    hours = input('enter hours worked\\n')\n",
    "    try:\n",
    "        hours = int(hours)\n",
    "    except:\n",
    "        print('use a number you idiot, Im a calculator')\n",
    "        quit()\n",
    "    rate = input('enter rate of pay\\n')\n",
    "    try:\n",
    "        rate = int(rate)\n",
    "    except:\n",
    "        print('you fool, you gotta use numbers')\n",
    "        quit()\n",
    "\n",
    "    basicpay = float(hours) * float(rate)\n",
    "    bonushours = float(hours) - 40\n",
    "    bonuspay = bonushours*1.5*float(rate)\n",
    "    finalpay = 40*float(rate) + bonuspay\n",
    "\n",
    "    if float(hours) <= 40:\n",
    "        print(basicpay)\n",
    "    else:\n",
    "        print(finalpay)\n",
    "\n",
    "computepay()"
   ]
  },
  {
   "cell_type": "code",
   "execution_count": 7,
   "metadata": {},
   "outputs": [
    {
     "name": "stdout",
     "output_type": "stream",
     "text": [
      "b\n",
      "a\n",
      "n\n",
      "a\n",
      "n\n",
      "a\n"
     ]
    }
   ],
   "source": [
    "fruit = 'banana'\n",
    "for letter in fruit :\n",
    "    print(letter)"
   ]
  },
  {
   "cell_type": "code",
   "execution_count": 9,
   "metadata": {},
   "outputs": [
    {
     "name": "stdout",
     "output_type": "stream",
     "text": [
      "1\n",
      "2\n",
      "3\n"
     ]
    }
   ],
   "source": [
    "fruit = [1, 2, 3]\n",
    "for bollocks in fruit :\n",
    "    print(bollocks)"
   ]
  },
  {
   "cell_type": "code",
   "execution_count": 13,
   "metadata": {},
   "outputs": [
    {
     "data": {
      "text/plain": [
       "'Monty Py'"
      ]
     },
     "execution_count": 13,
     "metadata": {},
     "output_type": "execute_result"
    }
   ],
   "source": [
    "s = 'Monty Python'\n",
    "s[0:4]\n",
    "s[:]\n",
    "s[8:]\n",
    "s[:8]"
   ]
  },
  {
   "cell_type": "code",
   "execution_count": null,
   "metadata": {},
   "outputs": [],
   "source": []
  }
 ],
 "metadata": {
  "kernelspec": {
   "display_name": "Python 3",
   "language": "python",
   "name": "python3"
  },
  "language_info": {
   "codemirror_mode": {
    "name": "ipython",
    "version": 3
   },
   "file_extension": ".py",
   "mimetype": "text/x-python",
   "name": "python",
   "nbconvert_exporter": "python",
   "pygments_lexer": "ipython3",
   "version": "3.6.5"
  }
 },
 "nbformat": 4,
 "nbformat_minor": 2
}
